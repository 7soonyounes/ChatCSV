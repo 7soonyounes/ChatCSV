{
 "cells": [
  {
   "cell_type": "code",
   "execution_count": 25,
   "metadata": {},
   "outputs": [
    {
     "name": "stdout",
     "output_type": "stream",
     "text": [
      "\n",
      "\n",
      "\u001b[1m> Entering new AgentExecutor chain...\u001b[0m\n",
      "\u001b[32;1m\u001b[1;3mThought: From the query, it seems that I need to plot a graph that represents the evolution of the Gross Domestic Product (Produit intérieur brut) over the years. To do this, first I need to filter the rows where 'Unnamed: 0' is equal to '- Produit intérieur brut' and then plot the values from the years columns.\n",
      "\n",
      "Action: python_repl_ast\n",
      "Action Input: df[df['Unnamed: 0'] == '- Produit intérieur brut']\u001b[0m\u001b[36;1m\u001b[1;3m                 Unnamed: 0 2018 2019  2020 2021 2022 2023\n",
      "0  - Produit intérieur brut  3,1  2,9  -7,2  7,9  1,5  4,0\u001b[0m\u001b[32;1m\u001b[1;3mThe dataframe is filtered correctly. Now we have a dataframe with the yearly GDP (Produit intérieur brut) data. However, the data seems to be in string format with commas, so it needs to be converted to float for plotting. \n",
      "\n",
      "We will convert these string values to float for all year columns. After that, we will plot a bar chart using matplotlib library. \n",
      "\n",
      "Let's start with converting the string values to float. \n",
      "\n",
      "Action: python_repl_ast\n",
      "Action Input: df_gdp = df[df['Unnamed: 0'] == '- Produit intérieur brut'].replace(',', '.', regex=True).astype(float)\u001b[0m\u001b[36;1m\u001b[1;3mValueError: could not convert string to float: '- Produit intérieur brut'\u001b[0m\u001b[32;1m\u001b[1;3mThere's a ValueError because we're trying to convert the 'Unnamed: 0' column to a float, which isn't possible because it contains string data. We should only convert the year columns.\n",
      "\n",
      "Let's modify the action to convert only the year columns to float.\n",
      "\n",
      "Action: python_repl_ast\n",
      "Action Input: year_columns = ['2018', '2019', '2020', '2021', '2022', '2023']\n",
      "df_gdp = df[df['Unnamed: 0'] == '- Produit intérieur brut'].copy()\n",
      "df_gdp[year_columns] = df_gdp[year_columns].replace(',', '.', regex=True).astype(float)\n",
      "df_gdp\u001b[0m\u001b[36;1m\u001b[1;3m                 Unnamed: 0  2018  2019  2020  2021  2022  2023\n",
      "0  - Produit intérieur brut   3.1   2.9  -7.2   7.9   1.5   4.0\u001b[0m\u001b[32;1m\u001b[1;3mNow that the data is in the correct format, I can plot the chart using matplotlib. I will create a bar chart where the x-axis represents the years and the y-axis represents the GDP (Produit intérieur brut).\n",
      "\n",
      "Action: python_repl_ast\n",
      "Action Input: import matplotlib.pyplot as plt\n",
      "\n",
      "# Data to plot\n",
      "x = year_columns\n",
      "y = df_gdp[year_columns].values.flatten()\n",
      "\n",
      "# Create bar chart\n",
      "plt.figure(figsize=(10,6))\n",
      "plt.bar(x, y, color='blue')\n",
      "plt.xlabel('Year')\n",
      "plt.ylabel('GDP')\n",
      "plt.title('Evolution of GDP over years')\n",
      "\n",
      "# Save the chart\n",
      "plt.savefig('./chart_image/chart.png')\n",
      "\n",
      "# Display the chart\n",
      "plt.show()\u001b[0m\u001b[36;1m\u001b[1;3m\u001b[0m"
     ]
    },
    {
     "name": "stderr",
     "output_type": "stream",
     "text": [
      "<string>:1: UserWarning: FigureCanvasAgg is non-interactive, and thus cannot be shown\n"
     ]
    },
    {
     "name": "stdout",
     "output_type": "stream",
     "text": [
      "\u001b[32;1m\u001b[1;3mI have successfully created the bar chart as requested and it has been saved as \"./chart_image/chart.png\". Now I should provide the final answer.\n",
      "\n",
      "Final Answer: Bello! Here is the chart:\u001b[0m\n",
      "\n",
      "\u001b[1m> Finished chain.\u001b[0m\n"
     ]
    },
    {
     "data": {
      "text/plain": [
       "'Bello! Here is the chart:'"
      ]
     },
     "execution_count": 25,
     "metadata": {},
     "output_type": "execute_result"
    }
   ],
   "source": [
    "import os\n",
    "import openai\n",
    "import pandas as pd\n",
    "import json\n",
    "\n",
    "from dotenv import find_dotenv, load_dotenv\n",
    "from langchain_openai import AzureChatOpenAI\n",
    "from langchain_experimental.agents.agent_toolkits import create_pandas_dataframe_agent\n",
    "from langchain.llms import AzureOpenAI\n",
    "from langchain.agents.agent_types import AgentType\n",
    "\n",
    "\n",
    "api_key = os.getenv(\"AZURE_OPENAI_API_KEY\")\n",
    "\n",
    "client = AzureChatOpenAI(\n",
    "    azure_endpoint=\"https://openai-if-test.openai.azure.com/\",\n",
    "    api_key=api_key,\n",
    "    api_version=\"2024-02-15-preview\",\n",
    "    model_name=\"gpt-4\"\n",
    ")\n",
    "\n",
    "# Load the csv file as Pandas dataframe.\n",
    "filename = r\"C:\\Users\\Wbennah\\Desktop\\GenAI\\ChatCSV-main\\Docs\\csv1.csv\"\n",
    "df = pd.read_csv(filename)\n",
    "\n",
    "# Initiate a connection to the LLM from Azure OpenAI Service via LangChain.\n",
    "llm = AzureChatOpenAI(model_name='gpt-4', api_version=\"2024-02-15-preview\", azure_endpoint=\"https://openai-if-test.openai.azure.com/\")\n",
    "\n",
    "# Initiate a LangChain's Pandas Agent with the LLM from Azure OpenAI Service to interact with the dataframe.\n",
    "agent = create_pandas_dataframe_agent(llm, df, verbose=True)\n",
    "\n",
    "# Define the preinstruction for the query.\n",
    "instruction = \"\"\"Please say \"Bello!\" before reply to the query. You must need to use matplotlib library to create a any chart.\n",
    "\n",
    "If the query requires creating a bar chart, please save the chart as \"./chart_image/chart.png\" and display it. Please also say \"Here is the chart:\" before displaying the chart.\n",
    "\n",
    "Here is the query: \"\"\"\n",
    "\n",
    "\n",
    "# Define the query.\n",
    "query = \"donne moi un graph qui represente l evolution du Produit intérieur brut par annee\"\n",
    "\n",
    "\n",
    "# Make up the prompt.\n",
    "prompt = instruction + query\n",
    "\n",
    "# Run the agent to interact with the dataframe.\n",
    "agent.run(prompt)"
   ]
  }
 ],
 "metadata": {
  "kernelspec": {
   "display_name": "base",
   "language": "python",
   "name": "python3"
  },
  "language_info": {
   "codemirror_mode": {
    "name": "ipython",
    "version": 3
   },
   "file_extension": ".py",
   "mimetype": "text/x-python",
   "name": "python",
   "nbconvert_exporter": "python",
   "pygments_lexer": "ipython3",
   "version": "3.11.8"
  }
 },
 "nbformat": 4,
 "nbformat_minor": 2
}
